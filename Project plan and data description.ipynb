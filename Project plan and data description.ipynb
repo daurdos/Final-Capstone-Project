{
    "cells": [
        {
            "metadata": {
                "collapsed": true
            },
            "cell_type": "markdown",
            "source": "# The Final Project Plan and Data Description"
        },
        {
            "metadata": {},
            "cell_type": "markdown",
            "source": "## 1) Business Problem"
        },
        {
            "metadata": {},
            "cell_type": "markdown",
            "source": "### Intro"
        },
        {
            "metadata": {},
            "cell_type": "markdown",
            "source": "The idea of this project is to help people in making decision while selecting best places to relocate with required facilities.\n\nThe location for the project is the disctrict of Scarborough Toronto city, Canada. It is one of the best directions for immigration in Canada nowadays.\n\nThe main idea of the project is to analyze  neighbouring information for people, such as schools, groceries, shops (medical shops), entertainment and so on, find many releted information and help to make the best choice. This information is usefull for people aiming to relocate to the new cities.\nThe comparison of data will be produced with New Your city.\n\n"
        },
        {
            "metadata": {},
            "cell_type": "markdown",
            "source": "### Approach"
        },
        {
            "metadata": {},
            "cell_type": "markdown",
            "source": "The clustering approach was chosen for the project. It means that I will compare two cities (New York and Toronto), segment the data, group it into clusters and neighborhoods. I will use k-means clustering algorithm. "
        },
        {
            "metadata": {},
            "cell_type": "markdown",
            "source": "## Source of data"
        },
        {
            "metadata": {},
            "cell_type": "markdown",
            "source": "The source for the project is Four-square API, which is a database of millions of places, providing the ability to perform location search, location sharing and details about a business.\nUsing credentials of Foursquare API features of near-by places of the neighborhoods will take place. Due to limitations the number of places per neighborhood parameter would reasonably be set to 100 and the radius parameter would be set to 500."
        },
        {
            "metadata": {},
            "cell_type": "markdown",
            "source": "### Problem"
        },
        {
            "metadata": {},
            "cell_type": "markdown",
            "source": "The purpose of this project, is to suggest a better neighborhood in a city of Toronto people relocating there. Social presence in society in terms of like minded people. Connectivity to the airport, bus stand, city center, markets and other daily needs things nearby."
        },
        {
            "metadata": {},
            "cell_type": "markdown",
            "source": "### Tools"
        },
        {
            "metadata": {},
            "cell_type": "markdown",
            "source": "Pandas: Creating, manipulate dataframes;\nScikit Learn: importing k-means clustering;\nFolium: visualize the neighborhoods cluster distribution of using interactive leaflet map;\nBeautiful Soup and Requests: scrap and library to handle http requests;\nJSON: to handle JSON files;\nXML: to separate data from presentation and XML stores data in plain text format;\nGeocoder: to retrieve Location Data;\nMatplotlib: Python Plotting Module."
        },
        {
            "metadata": {},
            "cell_type": "markdown",
            "source": "## 2) Data Description:"
        },
        {
            "metadata": {},
            "cell_type": "markdown",
            "source": "Data Link: https://en.wikipedia.org/wiki/List_of_postal_codes_of_Canada:_M\n\nI  will use Scarborough dataset which we scrapped from wikipedia on Week 3. Dataset consisting of latitude and longitude, zip codes."
        },
        {
            "metadata": {},
            "cell_type": "markdown",
            "source": "### Foursquare API Data:"
        },
        {
            "metadata": {},
            "cell_type": "markdown",
            "source": "I  need data about different venues in different neighborhoods of theScarborough borough. In order to gain that information we will use \"Foursquare\" locational information. Foursquare is a location data provider with information about all manner of venues and events within an area of interest. Such information includes venue names, locations, menus and even photos. As such, the foursquare location platform will be used as the sole data source since all the stated required information can be obtained through the API.\n\nAfter finding the list of neighborhoods, we then connect to the Foursquare API to gather information about venues inside each and every neighborhood. For each neighborhood, we have chosen the radius to be 100 meter.\n\nThe data retrieved from Foursquare contained information of venues within a specified distance of the longitude and latitude of the postcodes. The information obtained per venue as follows:\n\n1. Neighborhood\n2. Neighborhood Latitude\n3. Neighborhood Longitude\n4. Venue\n5. Name of the venue e.g. the name of a store or restaurant\n6. Venue Latitude\n7. Venue Longitude\n8. Venue Category"
        }
    ],
    "metadata": {
        "kernelspec": {
            "name": "python3",
            "display_name": "Python 3.7",
            "language": "python"
        },
        "language_info": {
            "name": "python",
            "version": "3.7.10",
            "mimetype": "text/x-python",
            "codemirror_mode": {
                "name": "ipython",
                "version": 3
            },
            "pygments_lexer": "ipython3",
            "nbconvert_exporter": "python",
            "file_extension": ".py"
        }
    },
    "nbformat": 4,
    "nbformat_minor": 1
}